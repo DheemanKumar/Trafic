{
 "cells": [
  {
   "cell_type": "code",
   "execution_count": 42,
   "metadata": {},
   "outputs": [],
   "source": [
    "Qtable={}"
   ]
  },
  {
   "cell_type": "code",
   "execution_count": 44,
   "metadata": {},
   "outputs": [],
   "source": [
    "def incremental(state,action,reward):\n",
    "    if(state in Qtable.keys()):\n",
    "        Qtable[state][action]['n']+=1\n",
    "        Qtable[state][action]['Q']+=(1/Qtable[state][action]['n'])*(reward-Qtable[state][action]['Q'])\n",
    "    \n",
    "    else :\n",
    "        data={}\n",
    "        for i in range(4):\n",
    "            data[i]={'n':0,\"Q\":0}\n",
    "        Qtable[state]=data\n",
    "        print(\"done\")\n",
    "        Qtable[state][action]['n']+=1\n",
    "        Qtable[state][action]['Q']+=(1/Qtable[state][action]['n'])*(reward-Qtable[state][action]['Q'])\n",
    "        "
   ]
  },
  {
   "cell_type": "code",
   "execution_count": 49,
   "metadata": {},
   "outputs": [
    {
     "name": "stdout",
     "output_type": "stream",
     "text": [
      "done\n"
     ]
    }
   ],
   "source": [
    "incremental('1010',3,1)"
   ]
  },
  {
   "cell_type": "code",
   "execution_count": 50,
   "metadata": {},
   "outputs": [
    {
     "data": {
      "text/plain": [
       "{'0010': {0: {'n': 0, 'Q': 0},\n",
       "  1: {'n': 1, 'Q': 5.0},\n",
       "  2: {'n': 0, 'Q': 0},\n",
       "  3: {'n': 1, 'Q': 1.0}},\n",
       " '1010': {0: {'n': 0, 'Q': 0},\n",
       "  1: {'n': 0, 'Q': 0},\n",
       "  2: {'n': 0, 'Q': 0},\n",
       "  3: {'n': 1, 'Q': 1.0}}}"
      ]
     },
     "execution_count": 50,
     "metadata": {},
     "output_type": "execute_result"
    }
   ],
   "source": [
    "Qtable"
   ]
  },
  {
   "cell_type": "code",
   "execution_count": 73,
   "metadata": {},
   "outputs": [],
   "source": [
    "def convertor(numbers):\n",
    "    #numbers = data.decode().split('')\n",
    "    #numbers =int(data)\n",
    "    state=numbers[1:5]\n",
    "    action=numbers[5]\n",
    "    reward=numbers[6:]\n",
    "\n",
    "\n",
    "    incremental(int(state),int(action),int(reward))\n",
    "\n",
    "\n",
    "\n",
    "    print(state)\n",
    "    print(action)\n",
    "    print(reward)\n"
   ]
  },
  {
   "cell_type": "code",
   "execution_count": 80,
   "metadata": {},
   "outputs": [
    {
     "name": "stdout",
     "output_type": "stream",
     "text": [
      "1234\n",
      "2\n",
      "5\n"
     ]
    },
    {
     "data": {
      "text/plain": [
       "'type, type, len of state, states, action len, action, reward '"
      ]
     },
     "execution_count": 80,
     "metadata": {},
     "output_type": "execute_result"
    }
   ],
   "source": [
    "convertor(\"0123425\")\n",
    "\"\"\"type, type, len of state, states, action len, action, reward \"\"\""
   ]
  },
  {
   "cell_type": "code",
   "execution_count": 83,
   "metadata": {},
   "outputs": [
    {
     "data": {
      "text/plain": [
       "{1: {'n': 1, 'Q': 2}, 2: {'n': 1, 'Q': 5}}"
      ]
     },
     "execution_count": 83,
     "metadata": {},
     "output_type": "execute_result"
    }
   ],
   "source": [
    "Qtable[1234]"
   ]
  },
  {
   "cell_type": "markdown",
   "metadata": {},
   "source": [
    "0111106\n",
    "0111127\n",
    "0111126\n",
    "0111111"
   ]
  },
  {
   "cell_type": "code",
   "execution_count": 86,
   "metadata": {},
   "outputs": [],
   "source": [
    "def findmax(values):\n",
    "    max_q_value = float('-inf')  # Set to negative infinity to ensure any Q value will be greater\n",
    "    max_q_key = None\n",
    "\n",
    "    # Iterate over the dictionary\n",
    "    for key, value in values.items():\n",
    "        # Check if the 'Q' value of the current item is greater than the current maximum\n",
    "        if value['Q'] > max_q_value:\n",
    "            max_q_key = key\n",
    "    \n",
    "    print(\"Key with highest Q value:\", max_q_key)\n"
   ]
  },
  {
   "cell_type": "code",
   "execution_count": 87,
   "metadata": {},
   "outputs": [
    {
     "name": "stdout",
     "output_type": "stream",
     "text": [
      "Key with highest Q value: 2\n"
     ]
    }
   ],
   "source": [
    "findmax(Qtable[1234])"
   ]
  },
  {
   "cell_type": "code",
   "execution_count": 16,
   "metadata": {},
   "outputs": [],
   "source": [
    "incremental(1010,1,7)"
   ]
  },
  {
   "cell_type": "code",
   "execution_count": 19,
   "metadata": {},
   "outputs": [],
   "source": [
    "incremental(1110,1,2)"
   ]
  },
  {
   "cell_type": "code",
   "execution_count": 6,
   "metadata": {},
   "outputs": [
    {
     "data": {
      "text/plain": [
       "{1010: {'n': 1, 'Q': 7}, 1110: {'n': 1, 'Q': 2}}"
      ]
     },
     "execution_count": 6,
     "metadata": {},
     "output_type": "execute_result"
    }
   ],
   "source": [
    "Qtable"
   ]
  },
  {
   "cell_type": "code",
   "execution_count": 88,
   "metadata": {},
   "outputs": [],
   "source": [
    "import pickle"
   ]
  },
  {
   "cell_type": "code",
   "execution_count": 99,
   "metadata": {},
   "outputs": [],
   "source": [
    "def loadfile(path):\n",
    "    file_path=path\n",
    "    with open(file_path, 'rb') as file:\n",
    "        Qtable = pickle.load(file)\n",
    "        return Qtable"
   ]
  },
  {
   "cell_type": "code",
   "execution_count": 100,
   "metadata": {},
   "outputs": [],
   "source": [
    "t=loadfile(\"data.bin\")"
   ]
  },
  {
   "cell_type": "code",
   "execution_count": 101,
   "metadata": {},
   "outputs": [
    {
     "data": {
      "text/plain": [
       "{1111: {0: {'n': 1, 'Q': 6}, 2: {'n': 2, 'Q': 6.5}, 1: {'n': 1, 'Q': 1}}}"
      ]
     },
     "execution_count": 101,
     "metadata": {},
     "output_type": "execute_result"
    }
   ],
   "source": [
    "t"
   ]
  },
  {
   "cell_type": "code",
   "execution_count": null,
   "metadata": {},
   "outputs": [],
   "source": []
  }
 ],
 "metadata": {
  "kernelspec": {
   "display_name": "Python 3",
   "language": "python",
   "name": "python3"
  },
  "language_info": {
   "codemirror_mode": {
    "name": "ipython",
    "version": 3
   },
   "file_extension": ".py",
   "mimetype": "text/x-python",
   "name": "python",
   "nbconvert_exporter": "python",
   "pygments_lexer": "ipython3",
   "version": "3.11.5"
  }
 },
 "nbformat": 4,
 "nbformat_minor": 2
}
