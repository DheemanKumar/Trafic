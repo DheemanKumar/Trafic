{
 "cells": [
  {
   "cell_type": "code",
   "execution_count": 56,
   "metadata": {},
   "outputs": [],
   "source": [
    "Qtable={}"
   ]
  },
  {
   "cell_type": "code",
   "execution_count": 13,
   "metadata": {},
   "outputs": [],
   "source": [
    "def incremental(state,action,reward):\n",
    "    if(state in Qtable.keys()):\n",
    "        if(action in Qtable[state].keys()):\n",
    "            Qtable[state][action]['n']+=1\n",
    "            Qtable[state][action]['Q']+=(1/Qtable[state][action]['n'])*(reward-Qtable[state][action]['Q'])\n",
    "        else:\n",
    "            Qtable[state][action]={'n':1,\"Q\":reward}\n",
    "    \n",
    "    else :\n",
    "        Qtable[state]={action:{'n':1,\"Q\":reward}}\n",
    "        "
   ]
  },
  {
   "cell_type": "code",
   "execution_count": 14,
   "metadata": {},
   "outputs": [],
   "source": [
    "incremental(1010,0,7)"
   ]
  },
  {
   "cell_type": "code",
   "execution_count": 57,
   "metadata": {},
   "outputs": [],
   "source": [
    "def convertor(numbers):\n",
    "    #numbers = data.decode().split('')\n",
    "    #numbers =int(data)\n",
    "    state=numbers[3:3+int(numbers[2])]\n",
    "    action=numbers[4+int(numbers[2]):4+int(numbers[2])+int(numbers[3+int(numbers[2])])]\n",
    "    reward=numbers[4+int(numbers[2])+int(numbers[3+int(numbers[2])]):]\n",
    "    incremental(int(state),int(action),int(reward))\n"
   ]
  },
  {
   "cell_type": "code",
   "execution_count": 58,
   "metadata": {},
   "outputs": [
    {
     "data": {
      "text/plain": [
       "' type, len of state, states, action len, action, reward '"
      ]
     },
     "execution_count": 58,
     "metadata": {},
     "output_type": "execute_result"
    }
   ],
   "source": [
    "convertor(\"0141032103\")\n",
    "\"\"\" type, len of state, states, action len, action, reward \"\"\""
   ]
  },
  {
   "cell_type": "code",
   "execution_count": null,
   "metadata": {},
   "outputs": [],
   "source": []
  },
  {
   "cell_type": "code",
   "execution_count": 59,
   "metadata": {},
   "outputs": [
    {
     "data": {
      "text/plain": [
       "{1032: {0: {'n': 1, 'Q': 3}}}"
      ]
     },
     "execution_count": 59,
     "metadata": {},
     "output_type": "execute_result"
    }
   ],
   "source": [
    "Qtable"
   ]
  },
  {
   "cell_type": "code",
   "execution_count": 16,
   "metadata": {},
   "outputs": [],
   "source": [
    "incremental(1010,1,7)"
   ]
  },
  {
   "cell_type": "code",
   "execution_count": 19,
   "metadata": {},
   "outputs": [],
   "source": [
    "incremental(1110,1,2)"
   ]
  },
  {
   "cell_type": "code",
   "execution_count": 6,
   "metadata": {},
   "outputs": [
    {
     "data": {
      "text/plain": [
       "{1010: {'n': 1, 'Q': 7}, 1110: {'n': 1, 'Q': 2}}"
      ]
     },
     "execution_count": 6,
     "metadata": {},
     "output_type": "execute_result"
    }
   ],
   "source": [
    "Qtable"
   ]
  },
  {
   "cell_type": "code",
   "execution_count": null,
   "metadata": {},
   "outputs": [],
   "source": []
  }
 ],
 "metadata": {
  "kernelspec": {
   "display_name": "Python 3",
   "language": "python",
   "name": "python3"
  },
  "language_info": {
   "codemirror_mode": {
    "name": "ipython",
    "version": 3
   },
   "file_extension": ".py",
   "mimetype": "text/x-python",
   "name": "python",
   "nbconvert_exporter": "python",
   "pygments_lexer": "ipython3",
   "version": "3.11.5"
  }
 },
 "nbformat": 4,
 "nbformat_minor": 2
}
